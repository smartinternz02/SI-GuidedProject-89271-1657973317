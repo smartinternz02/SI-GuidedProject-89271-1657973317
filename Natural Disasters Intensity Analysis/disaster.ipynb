{
 "cells": [
  {
   "cell_type": "code",
   "execution_count": 12,
   "id": "ea6cea9f",
   "metadata": {},
   "outputs": [],
   "source": [
    "from keras.preprocessing.image import ImageDataGenerator\n",
    "\n",
    "train_datagen = ImageDataGenerator(rescale = 1./255,\n",
    "                                   shear_range = 0.2,\n",
    "                                   zoom_range = 0.2,\n",
    "                                   horizontal_flip = True)\n",
    "\n",
    "test_datagen = ImageDataGenerator(rescale = 1./255)"
   ]
  },
  {
   "cell_type": "code",
   "execution_count": 13,
   "id": "8d0611b0",
   "metadata": {},
   "outputs": [
    {
     "name": "stdout",
     "output_type": "stream",
     "text": [
      "Found 742 images belonging to 4 classes.\n"
     ]
    }
   ],
   "source": [
    "x = train_datagen.flow_from_directory(r\"D:\\datasets\\dataset\\dataset\\train_set\",\n",
    "                                                 target_size = (64, 64),\n",
    "                                                 batch_size = 32,\n",
    "                                                 color_mode='rgb',\n",
    "                                                 class_mode = 'categorical')"
   ]
  },
  {
   "cell_type": "code",
   "execution_count": 15,
   "id": "3a38399c",
   "metadata": {},
   "outputs": [
    {
     "name": "stdout",
     "output_type": "stream",
     "text": [
      "Found 198 images belonging to 4 classes.\n"
     ]
    }
   ],
   "source": [
    "y= test_datagen.flow_from_directory(r\"D:\\datasets\\dataset\\dataset\\test_set\",\n",
    "                                                 target_size = (64, 64),\n",
    "                                                 batch_size = 32,\n",
    "                                                 color_mode='rgb',\n",
    "                                                 class_mode = 'categorical')"
   ]
  },
  {
   "cell_type": "code",
   "execution_count": 16,
   "id": "7cf70e14",
   "metadata": {},
   "outputs": [],
   "source": [
    "from tensorflow.keras.models import Sequential\n",
    "from tensorflow.keras.layers import Conv2D\n",
    "from tensorflow.keras.layers import MaxPool2D\n",
    "from tensorflow.keras.layers import Flatten\n",
    "from tensorflow.keras.layers import Dense"
   ]
  },
  {
   "cell_type": "code",
   "execution_count": 17,
   "id": "5cceed40",
   "metadata": {},
   "outputs": [],
   "source": [
    "model=Sequential()\n",
    "model.add(Conv2D(32,(3,3),activation='relu',input_shape=(64,64,3)))\n",
    "model.add(MaxPool2D(2,2))\n",
    "model.add(Conv2D(64,(3,3),activation='relu'))\n",
    "model.add(MaxPool2D(2,2))  \n",
    "model.add(Conv2D(128,(3,3),activation='relu'))\n",
    "model.add(MaxPool2D(2,2))  \n",
    "model.add(Flatten())\n",
    "model.add(Dense(102,activation='relu'))\n",
    "model.add(Dense(52,activation='relu'))\n",
    "model.add(Dense(12,activation='relu'))\n",
    "model.add(Dense(4,activation='softmax'))"
   ]
  },
  {
   "cell_type": "code",
   "execution_count": 18,
   "id": "ad457fe8",
   "metadata": {},
   "outputs": [
    {
     "name": "stdout",
     "output_type": "stream",
     "text": [
      "Model: \"sequential_2\"\n",
      "_________________________________________________________________\n",
      " Layer (type)                Output Shape              Param #   \n",
      "=================================================================\n",
      " conv2d_6 (Conv2D)           (None, 62, 62, 32)        896       \n",
      "                                                                 \n",
      " max_pooling2d_6 (MaxPooling  (None, 31, 31, 32)       0         \n",
      " 2D)                                                             \n",
      "                                                                 \n",
      " conv2d_7 (Conv2D)           (None, 29, 29, 64)        18496     \n",
      "                                                                 \n",
      " max_pooling2d_7 (MaxPooling  (None, 14, 14, 64)       0         \n",
      " 2D)                                                             \n",
      "                                                                 \n",
      " conv2d_8 (Conv2D)           (None, 12, 12, 128)       73856     \n",
      "                                                                 \n",
      " max_pooling2d_8 (MaxPooling  (None, 6, 6, 128)        0         \n",
      " 2D)                                                             \n",
      "                                                                 \n",
      " flatten_2 (Flatten)         (None, 4608)              0         \n",
      "                                                                 \n",
      " dense_8 (Dense)             (None, 102)               470118    \n",
      "                                                                 \n",
      " dense_9 (Dense)             (None, 52)                5356      \n",
      "                                                                 \n",
      " dense_10 (Dense)            (None, 12)                636       \n",
      "                                                                 \n",
      " dense_11 (Dense)            (None, 4)                 52        \n",
      "                                                                 \n",
      "=================================================================\n",
      "Total params: 569,410\n",
      "Trainable params: 569,410\n",
      "Non-trainable params: 0\n",
      "_________________________________________________________________\n"
     ]
    }
   ],
   "source": [
    "model.summary()"
   ]
  },
  {
   "cell_type": "code",
   "execution_count": 19,
   "id": "e0d3c772",
   "metadata": {},
   "outputs": [],
   "source": [
    "model.compile(loss='categorical_crossentropy',optimizer='adam',metrics=['accuracy'])"
   ]
  },
  {
   "cell_type": "code",
   "execution_count": 20,
   "id": "d5bee352",
   "metadata": {},
   "outputs": [
    {
     "name": "stderr",
     "output_type": "stream",
     "text": [
      "C:\\Users\\amang\\AppData\\Local\\Temp\\ipykernel_59780\\3941545244.py:1: UserWarning: `Model.fit_generator` is deprecated and will be removed in a future version. Please use `Model.fit`, which supports generators.\n",
      "  model.fit_generator(\n"
     ]
    },
    {
     "name": "stdout",
     "output_type": "stream",
     "text": [
      "Epoch 1/50\n",
      "24/24 [==============================] - 100s 4s/step - loss: 1.3185 - accuracy: 0.3477 - val_loss: 1.2724 - val_accuracy: 0.4545\n",
      "Epoch 2/50\n",
      "24/24 [==============================] - 73s 3s/step - loss: 1.1891 - accuracy: 0.4987 - val_loss: 1.2186 - val_accuracy: 0.4444\n",
      "Epoch 3/50\n",
      "24/24 [==============================] - 81s 3s/step - loss: 1.0543 - accuracy: 0.5714 - val_loss: 1.0159 - val_accuracy: 0.6414\n",
      "Epoch 4/50\n",
      "24/24 [==============================] - 81s 3s/step - loss: 0.8492 - accuracy: 0.6577 - val_loss: 0.8883 - val_accuracy: 0.7121\n",
      "Epoch 5/50\n",
      "24/24 [==============================] - 62s 3s/step - loss: 0.8111 - accuracy: 0.6631 - val_loss: 0.7966 - val_accuracy: 0.7525\n",
      "Epoch 6/50\n",
      "24/24 [==============================] - 71s 3s/step - loss: 0.6765 - accuracy: 0.7372 - val_loss: 1.0421 - val_accuracy: 0.6768\n",
      "Epoch 7/50\n",
      "24/24 [==============================] - 72s 3s/step - loss: 0.6547 - accuracy: 0.7399 - val_loss: 0.8325 - val_accuracy: 0.7475\n",
      "Epoch 8/50\n",
      "24/24 [==============================] - 72s 3s/step - loss: 0.6027 - accuracy: 0.7925 - val_loss: 0.6473 - val_accuracy: 0.7778\n",
      "Epoch 9/50\n",
      "24/24 [==============================] - 67s 3s/step - loss: 0.5708 - accuracy: 0.7844 - val_loss: 0.7024 - val_accuracy: 0.7929\n",
      "Epoch 10/50\n",
      "24/24 [==============================] - 65s 3s/step - loss: 0.4744 - accuracy: 0.8167 - val_loss: 0.7865 - val_accuracy: 0.7172\n",
      "Epoch 11/50\n",
      "24/24 [==============================] - 72s 3s/step - loss: 0.5247 - accuracy: 0.7911 - val_loss: 0.5977 - val_accuracy: 0.8182\n",
      "Epoch 12/50\n",
      "24/24 [==============================] - 72s 3s/step - loss: 0.4940 - accuracy: 0.8208 - val_loss: 0.8366 - val_accuracy: 0.7323\n",
      "Epoch 13/50\n",
      "24/24 [==============================] - 75s 3s/step - loss: 0.4391 - accuracy: 0.8504 - val_loss: 0.8892 - val_accuracy: 0.7424\n",
      "Epoch 14/50\n",
      "24/24 [==============================] - 72s 3s/step - loss: 0.4753 - accuracy: 0.8221 - val_loss: 0.8834 - val_accuracy: 0.7475\n",
      "Epoch 15/50\n",
      "24/24 [==============================] - 71s 3s/step - loss: 0.4716 - accuracy: 0.8235 - val_loss: 0.7786 - val_accuracy: 0.7677\n",
      "Epoch 16/50\n",
      "24/24 [==============================] - 72s 3s/step - loss: 0.4173 - accuracy: 0.8396 - val_loss: 0.6590 - val_accuracy: 0.8081\n",
      "Epoch 17/50\n",
      "24/24 [==============================] - 73s 3s/step - loss: 0.3717 - accuracy: 0.8787 - val_loss: 0.8313 - val_accuracy: 0.7727\n",
      "Epoch 18/50\n",
      "24/24 [==============================] - 72s 3s/step - loss: 0.3768 - accuracy: 0.8504 - val_loss: 0.6408 - val_accuracy: 0.7778\n",
      "Epoch 19/50\n",
      "24/24 [==============================] - 71s 3s/step - loss: 0.3556 - accuracy: 0.8733 - val_loss: 0.7789 - val_accuracy: 0.7525\n",
      "Epoch 20/50\n",
      "24/24 [==============================] - 72s 3s/step - loss: 0.3221 - accuracy: 0.8787 - val_loss: 0.6694 - val_accuracy: 0.8384\n",
      "Epoch 21/50\n",
      "24/24 [==============================] - 63s 3s/step - loss: 0.2910 - accuracy: 0.9016 - val_loss: 0.6800 - val_accuracy: 0.8283\n",
      "Epoch 22/50\n",
      "24/24 [==============================] - 74s 3s/step - loss: 0.3360 - accuracy: 0.8774 - val_loss: 0.8796 - val_accuracy: 0.7576\n",
      "Epoch 23/50\n",
      "24/24 [==============================] - 73s 3s/step - loss: 0.3275 - accuracy: 0.8854 - val_loss: 0.7060 - val_accuracy: 0.8384\n",
      "Epoch 24/50\n",
      "24/24 [==============================] - 74s 3s/step - loss: 0.2703 - accuracy: 0.8908 - val_loss: 0.8081 - val_accuracy: 0.8030\n",
      "Epoch 25/50\n",
      "24/24 [==============================] - 73s 3s/step - loss: 0.2468 - accuracy: 0.9084 - val_loss: 0.5927 - val_accuracy: 0.8333\n",
      "Epoch 26/50\n",
      "24/24 [==============================] - 72s 3s/step - loss: 0.2459 - accuracy: 0.9191 - val_loss: 0.5688 - val_accuracy: 0.8636\n",
      "Epoch 27/50\n",
      "24/24 [==============================] - 63s 3s/step - loss: 0.2148 - accuracy: 0.9272 - val_loss: 0.5926 - val_accuracy: 0.8182\n",
      "Epoch 28/50\n",
      "24/24 [==============================] - 74s 3s/step - loss: 0.2033 - accuracy: 0.9299 - val_loss: 0.8455 - val_accuracy: 0.8131\n",
      "Epoch 29/50\n",
      "24/24 [==============================] - 75s 3s/step - loss: 0.2198 - accuracy: 0.9164 - val_loss: 0.6898 - val_accuracy: 0.8030\n",
      "Epoch 30/50\n",
      "24/24 [==============================] - 74s 3s/step - loss: 0.2198 - accuracy: 0.9218 - val_loss: 0.7298 - val_accuracy: 0.8131\n",
      "Epoch 31/50\n",
      "24/24 [==============================] - 72s 3s/step - loss: 0.1897 - accuracy: 0.9367 - val_loss: 0.7294 - val_accuracy: 0.8131\n",
      "Epoch 32/50\n",
      "24/24 [==============================] - 73s 3s/step - loss: 0.1620 - accuracy: 0.9501 - val_loss: 0.7393 - val_accuracy: 0.8232\n",
      "Epoch 33/50\n",
      "24/24 [==============================] - 73s 3s/step - loss: 0.2063 - accuracy: 0.9191 - val_loss: 0.8077 - val_accuracy: 0.8232\n",
      "Epoch 34/50\n",
      "24/24 [==============================] - 73s 3s/step - loss: 0.3086 - accuracy: 0.8827 - val_loss: 0.6585 - val_accuracy: 0.7778\n",
      "Epoch 35/50\n",
      "24/24 [==============================] - 74s 3s/step - loss: 0.2259 - accuracy: 0.9191 - val_loss: 0.9072 - val_accuracy: 0.8030\n",
      "Epoch 36/50\n",
      "24/24 [==============================] - 75s 3s/step - loss: 0.1540 - accuracy: 0.9407 - val_loss: 0.7787 - val_accuracy: 0.8384\n",
      "Epoch 37/50\n",
      "24/24 [==============================] - 74s 3s/step - loss: 0.1221 - accuracy: 0.9636 - val_loss: 0.8206 - val_accuracy: 0.8636\n",
      "Epoch 38/50\n",
      "24/24 [==============================] - 73s 3s/step - loss: 0.1609 - accuracy: 0.9394 - val_loss: 0.7217 - val_accuracy: 0.8434\n",
      "Epoch 39/50\n",
      "24/24 [==============================] - 72s 3s/step - loss: 0.1435 - accuracy: 0.9394 - val_loss: 0.8704 - val_accuracy: 0.7929\n",
      "Epoch 40/50\n",
      "24/24 [==============================] - 72s 3s/step - loss: 0.1428 - accuracy: 0.9380 - val_loss: 0.7841 - val_accuracy: 0.7980\n",
      "Epoch 41/50\n",
      "24/24 [==============================] - 72s 3s/step - loss: 0.2181 - accuracy: 0.9218 - val_loss: 0.7507 - val_accuracy: 0.8636\n",
      "Epoch 42/50\n",
      "24/24 [==============================] - 75s 3s/step - loss: 0.1571 - accuracy: 0.9447 - val_loss: 0.8437 - val_accuracy: 0.7980\n",
      "Epoch 43/50\n",
      "24/24 [==============================] - 72s 3s/step - loss: 0.1266 - accuracy: 0.9542 - val_loss: 0.8256 - val_accuracy: 0.8687\n",
      "Epoch 44/50\n",
      "24/24 [==============================] - 72s 3s/step - loss: 0.1172 - accuracy: 0.9582 - val_loss: 0.8989 - val_accuracy: 0.8333\n",
      "Epoch 45/50\n",
      "24/24 [==============================] - 72s 3s/step - loss: 0.0968 - accuracy: 0.9663 - val_loss: 0.8137 - val_accuracy: 0.8384\n",
      "Epoch 46/50\n",
      "24/24 [==============================] - 73s 3s/step - loss: 0.0760 - accuracy: 0.9744 - val_loss: 0.8428 - val_accuracy: 0.8737\n",
      "Epoch 47/50\n",
      "24/24 [==============================] - 74s 3s/step - loss: 0.0609 - accuracy: 0.9784 - val_loss: 1.1026 - val_accuracy: 0.7929\n",
      "Epoch 48/50\n",
      "24/24 [==============================] - 74s 3s/step - loss: 0.0783 - accuracy: 0.9744 - val_loss: 1.0173 - val_accuracy: 0.8081\n",
      "Epoch 49/50\n",
      "24/24 [==============================] - 62s 3s/step - loss: 0.0882 - accuracy: 0.9677 - val_loss: 0.9146 - val_accuracy: 0.8535\n",
      "Epoch 50/50\n",
      "24/24 [==============================] - 80s 3s/step - loss: 0.0733 - accuracy: 0.9757 - val_loss: 0.9656 - val_accuracy: 0.8232\n"
     ]
    },
    {
     "data": {
      "text/plain": [
       "<keras.callbacks.History at 0x1e42a0ea940>"
      ]
     },
     "execution_count": 20,
     "metadata": {},
     "output_type": "execute_result"
    }
   ],
   "source": [
    "model.fit_generator(\n",
    "  x,\n",
    "  validation_data=y,\n",
    "  epochs=50,\n",
    "  steps_per_epoch=len(x),\n",
    "  validation_steps=len(y)\n",
    ")"
   ]
  },
  {
   "cell_type": "code",
   "execution_count": 21,
   "id": "19e1d8f9",
   "metadata": {},
   "outputs": [],
   "source": [
    "model.save(\"disaster.h5\")"
   ]
  },
  {
   "cell_type": "code",
   "execution_count": null,
   "id": "13220646",
   "metadata": {},
   "outputs": [],
   "source": []
  }
 ],
 "metadata": {
  "kernelspec": {
   "display_name": "Python 3 (ipykernel)",
   "language": "python",
   "name": "python3"
  },
  "language_info": {
   "codemirror_mode": {
    "name": "ipython",
    "version": 3
   },
   "file_extension": ".py",
   "mimetype": "text/x-python",
   "name": "python",
   "nbconvert_exporter": "python",
   "pygments_lexer": "ipython3",
   "version": "3.9.12"
  }
 },
 "nbformat": 4,
 "nbformat_minor": 5
}
